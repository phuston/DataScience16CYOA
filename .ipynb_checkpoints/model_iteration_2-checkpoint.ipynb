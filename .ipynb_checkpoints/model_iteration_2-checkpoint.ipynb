{
 "cells": [
  {
   "cell_type": "markdown",
   "metadata": {},
   "source": [
    "### Rotten Tomatoes Sentiment Analysis \n",
    "#### Patrick Huston and James Jang\n",
    "\n",
    "This notebook aims to explore a revised model for the sentiment analysis Kaggle Rotten Tomatoes competition. Taking what we've learned from our exploration and first iteration model, we hope to improve our techniques and validation of modeling choices in the pursuit of a higher score."
   ]
  },
  {
   "cell_type": "code",
   "execution_count": 1,
   "metadata": {
    "collapsed": false
   },
   "outputs": [
    {
     "name": "stderr",
     "output_type": "stream",
     "text": [
      "/Users/bumho/anaconda/lib/python2.7/site-packages/matplotlib/font_manager.py:273: UserWarning: Matplotlib is building the font cache using fc-list. This may take a moment.\n",
      "  warnings.warn('Matplotlib is building the font cache using fc-list. This may take a moment.')\n"
     ]
    }
   ],
   "source": [
    "import pandas as pd\n",
    "import string\n",
    "import re\n",
    "import math\n",
    "import numpy as np\n",
    "import matplotlib.pyplot as plt\n",
    "from nltk.corpus import stopwords\n",
    "from nltk.stem.porter import PorterStemmer\n",
    "from nltk.stem import WordNetLemmatizer\n",
    "\n",
    "from sklearn import svm\n",
    "from sklearn.naive_bayes import MultinomialNB\n",
    "from sklearn import cross_validation\n",
    "from sklearn.cross_validation import train_test_split\n",
    "from sklearn.ensemble import RandomForestClassifier, GradientBoostingClassifier\n",
    "from sklearn.linear_model import LinearRegression, LogisticRegression, LogisticRegressionCV\n",
    "from sklearn.feature_extraction.text import CountVectorizer, TfidfVectorizer, TfidfTransformer\n",
    "from sklearn.pipeline import Pipeline\n",
    "from sklearn.naive_bayes import GaussianNB\n",
    "from sklearn.svm import LinearSVC\n",
    "from sklearn.multiclass import OneVsRestClassifier, OneVsOneClassifier\n",
    "\n",
    "from scipy import sparse\n",
    "\n",
    "%matplotlib inline"
   ]
  },
  {
   "cell_type": "markdown",
   "metadata": {},
   "source": [
    "### TODO\n",
    "\n",
    "1. Write a easily replicable testing/validation technique so we can easily verify new decisions/choices\n",
    "2. Write more analysis on why a technique is working better/worse\n",
    "3. Documentation as we go - write more markdown cells\n",
    "4. Specific cleaning exploration\n",
    "    - Unigram vs. bigram\n",
    "    - Negations\n",
    "5. Models\n",
    "    - Logistic regression\n",
    "    - SVM\n",
    "    - Tuning, tuning, tuning!\n",
    "    "
   ]
  },
  {
   "cell_type": "markdown",
   "metadata": {},
   "source": [
    "### Data Cleaning Techniques/Creating Features\n",
    "\n",
    "In natural language processing, the main 'feature' models use is the text itself - and there are several ways to extract numerical values from text. Additionally, there are cleaning steps and techniques that can be taken to improve the representation of the text inputted into the model.\n",
    "\n",
    "One of the first cleaning techniques that we tried was removing all of the punctuation and turning all of words into lower case. We performed this cleaning technique to normalize our dataset a bit. However, capitalization and punctuation could sometimes affect the sentiment of the sentence so this cleaning technique might not always be the best.\n",
    "\n",
    "Another cleaning technique that we used was removing stopwords. Stopwords in english are words that are hold no meaning in the overall sentences. Words like the, and, of etc. are common stopwords that does not really contribute to the overall sentiment of the sentence. Note: this step is performed as part of another step we took when using a scikit-learn's `TfidfVectorizer`. See the section titled 'Creating Numerical Features from Text Data' to see this in action.\n",
    "\n",
    "Next, we implemented some additional cleaning techniques used to further normalize the data - porter stemming and lemmatization. Porter stemming is the process of removing common morphological and inflexional endings from words in English. This is accomplished using simple algorithms that don't have any inherent knowledge of the English language, instead applying a set of rules to break down words and remove endings. Lemmatization, on the other hand, uses an input English dictionary to apply more intelligent breakdown of words based on part of speech. Unfortunately, lemmatization requires that every word be tagged with part of speech, which is an additional data processing step that, in the end, offered no real improvement in accuracy. For this reason, we decided to stick with the simpler algorithm, porter stemming. "
   ]
  },
  {
   "cell_type": "code",
   "execution_count": 2,
   "metadata": {
    "collapsed": false
   },
   "outputs": [],
   "source": [
    "# Load in the dataset\n",
    "train = pd.read_csv(\"data/train.tsv\", sep= '\\t')\n",
    "test = pd.read_csv(\"data/test.tsv\", sep= '\\t')"
   ]
  },
  {
   "cell_type": "markdown",
   "metadata": {},
   "source": [
    "#### Simple Phrase Cleaning\n",
    "Let's define our baseline simple phrase cleaning function. It takes in a phrase, splits on spaces, removes punctuation on the outside of words (preserving meaningful punctuation like `didn't` and `should've`, and then joins, lowers, and returns the resulting phrase."
   ]
  },
  {
   "cell_type": "code",
   "execution_count": 3,
   "metadata": {
    "collapsed": false
   },
   "outputs": [],
   "source": [
    "def clean_phrase_simple(phrase):\n",
    "    # Grab only words and lower them\n",
    "    clean_str = [word.strip(string.punctuation) for word in phrase.split(\" \")]\n",
    "    return ' '.join(clean_str).lower()"
   ]
  },
  {
   "cell_type": "markdown",
   "metadata": {},
   "source": [
    "#### Phrase Cleaning with Porter Stemming and Lemmatizing\n",
    "\n",
    "The following functions offer the same functionality as `clean_phrase_simple`, but with the addition of porter stemming and lemmatizing. "
   ]
  },
  {
   "cell_type": "code",
   "execution_count": 4,
   "metadata": {
    "collapsed": true
   },
   "outputs": [],
   "source": [
    "porter_stemmer = PorterStemmer()\n",
    "wordnet_lemmatizer = WordNetLemmatizer()\n",
    "\n",
    "def clean_phrase_porter(phrase):\n",
    "    stemmed = [porter_stemmer.stem(word.strip(string.punctuation)) for word in phrase.split(\" \")]\n",
    "    return ' '.join(stemmed).lower()\n",
    "\n",
    "def clean_phrase_lemmatizer(phrase):\n",
    "    stemmed = [wordnet_lemmatizer.stem(word.strip(string.punctuation)) for word in phrase.split(\" \")]\n",
    "    return ' '.join(stemmed).lower()"
   ]
  },
  {
   "cell_type": "markdown",
   "metadata": {},
   "source": [
    "#### Applying Cleaning Functions\n",
    "\n",
    "While we're at it, let's also define some convenience methods to apply our cleaning functions."
   ]
  },
  {
   "cell_type": "code",
   "execution_count": 5,
   "metadata": {
    "collapsed": true
   },
   "outputs": [],
   "source": [
    "def apply_transform(data):\n",
    "    data['CleanPhrasePorter'] = data['Phrase'].apply(clean_phrase_porter)\n",
    "    data['CleanPhraseSimple'] = data['Phrase'].apply(clean_phrase_simple)"
   ]
  },
  {
   "cell_type": "code",
   "execution_count": 6,
   "metadata": {
    "collapsed": false
   },
   "outputs": [],
   "source": [
    "apply_transform(train)\n",
    "apply_transform(test)"
   ]
  },
  {
   "cell_type": "markdown",
   "metadata": {},
   "source": [
    "### Creating Numerical Features from Text Data\n",
    "\n",
    "Now that we've explored some different methods of preprocessing the text, it's time to get into the machine learning. This will involve representing our text-based data numerically and then using this representation to fit a model to. \n",
    "\n",
    "One such way of representing text as numerical features is TFIDF - term-frequency inverse-document-frequency. Term frequency involves computing the total number of times each given token in a document appears. Inverse document frequency is an additional step that normalizes for the frequency of appearance of each token in the overall corpus. Inverse document frequency diminishes the weight of terms that occur very frequently in the document set and increases the weight of terms that occur rarely. \n",
    "\n",
    "To compute the TFIDF for our data, we use scikit-learn's TfidfVectorizer, a convenient tool that takes care of the details. In reality, however, TFIDF is relatively simple to implement."
   ]
  },
  {
   "cell_type": "code",
   "execution_count": 83,
   "metadata": {
    "collapsed": true
   },
   "outputs": [],
   "source": [
    "def vectorize(train, test, column):\n",
    "    vectorizer = TfidfVectorizer()\n",
    "    vectorizer.fit(train[column])\n",
    "    \n",
    "    X = vectorizer.transform(train[column])\n",
    "    X_test = vectorizer.transform(test[column])\n",
    "    \n",
    "    return X, X_test"
   ]
  },
  {
   "cell_type": "code",
   "execution_count": 84,
   "metadata": {
    "collapsed": true
   },
   "outputs": [],
   "source": [
    "X, X_test = vectorize(train, test, 'Phrase')\n",
    "\n",
    "X_cleaned, X_test_clean = vectorize(train, test, 'CleanPhraseSimple')"
   ]
  },
  {
   "cell_type": "markdown",
   "metadata": {},
   "source": [
    "### Creating Models\n",
    "\n",
    "To facilitate the process of testing a bunch of models, we've made the process easier by defining some convenience methods that iterate over a dictionary of models that we create. Through this process, we'll be able to compare each model's performance against the others, and make an informed decision.\n",
    "\n",
    "Here are all of the models we'll be trying:\n",
    "\n",
    "1. Logistic Regression\n",
    "    - We'll start with a simple multi-class logistic regression model. A common mistake in machine learning, especially in natural language processing, is to ignore the simpler models in lieu of the sexier new techniques - the likes of deep learning and neural networks. If nothing else, this will serve as a good benchmark for the rest of our models.\n",
    "\n",
    "2. Logistic Regression - Tuned\n",
    "    - Moving on from the logistic regression benchmark, let's also create a tuned vesion, which defines a list of penalty weights to test from. This will give us a better idea of how much tuning can help.\n",
    "    \n",
    "3. Random Forest Model\n",
    "    - Random forests can be great - it mostly depends on what the data looks like. In this case, we're a little hesitant about its ability to model the data as it seems to be more linear in many aspects than all over the place and random, which a set of decision trees could model more accurately.\n",
    "    \n",
    "4. Multinomial Naive Bayes\n",
    "    - In a lot of text analysis, it is somewhat common practice to start with a Naive Bayes model as a good baseline benchmark. Additionally, it is useful when there are limited resources in terms of CPU and Memory - it can be trained very quickly. \n",
    "    \n",
    "5. Support Vector Machine\n",
    "    - We also chose to test a linear implement of scikit-learns Support Vector Machine (SVM). SVM models are generally known to be good choices in cases of very high dimensionality, and the TFIDF vectors we have created fit the bill perfectly. "
   ]
  },
  {
   "cell_type": "code",
   "execution_count": 87,
   "metadata": {
    "collapsed": false
   },
   "outputs": [],
   "source": [
    "# Logistic regression\n",
    "logistic = LogisticRegression(multi_class='multinomial', solver='newton-cg')\n",
    "\n",
    "# Tuned logistic regression\n",
    "logisticTune = LogisticRegressionCV(Cs=[math.e**v for v in range(-5,5)],\n",
    "                                    multi_class='multinomial',\n",
    "                                    solver='newton-cg')\n",
    "\n",
    "# Random forest model\n",
    "random = RandomForestClassifier()\n",
    "\n",
    "# Multinomail Naive Bayes\n",
    "multinomial = MultinomialNB()\n",
    "\n",
    "# Support Vector Machine Linear SVC\n",
    "SVM = svm.LinearSVC(penalty = 'l2', dual = False, tol = 1e-3)\n",
    "\n",
    "# Compile dictionary of models for later use\n",
    "# models = {'Logistic': logistic, 'TunedLogistic': logisticTune, 'RandomForest': random, 'Multinomial' : multinomial, 'SVM': SVM}\n",
    "models = {'Logistic': logistic, 'RandomForest': random, 'Multinomial' : multinomial, 'SVM': SVM}"
   ]
  },
  {
   "cell_type": "markdown",
   "metadata": {},
   "source": [
    "Before we get to the testing, let's define some convenience methods that we can use to break down the tasks involved in getting some validation. "
   ]
  },
  {
   "cell_type": "code",
   "execution_count": 42,
   "metadata": {
    "collapsed": false
   },
   "outputs": [],
   "source": [
    "# Cross-validates model within trainnig set with a split of 'cv' - default value of 3\n",
    "def cross_validate(model, X, y, cv=3):\n",
    "    return cross_validation.cross_val_score(model, X, y, cv=cv).mean()\n",
    " \n",
    "# Performs train-test split on data, trains on train, tests on test, returns score\n",
    "def train_test_splitter(model, X, y, train_size=0.5):\n",
    "    X_train, X_test, y_train, y_test = train_test_split(X, y, train_size=train_size)\n",
    "    model.fit(X_train, y_train)\n",
    "    return X_train, X_test, y_train, y_test, model\n",
    "\n",
    "# iterates over all different models and print out their results of train_test_splitter\n",
    "def test_models(models, X, y = train.Sentiment):\n",
    "    for modelName, model in models.iteritems():\n",
    "        print modelName\n",
    "        X_train, X_test, y_train, y_test, model = train_test_splitter(model, X, y, train_size=0.5)\n",
    "        print model.score(X_test, y_test)\n",
    "        \n",
    "        \n",
    "# test one specific model with train_test_splitter\n",
    "def test_model(model, X, y = train.Sentiment):\n",
    "    return train_test_splitter(model, X, y, train_size=0.5)       \n",
    "\n",
    "# trains the model on the whole dataset, predicts on the test set and creates a submission file to kaggle\n",
    "def train_submit(model, X_train, X_test, y_train= train.Sentiment, filename = \"submission.csv\"):\n",
    "    print \"fitting\"\n",
    "    model.fit(X_train, y_train)\n",
    "    prediction = model.predict(X_test)\n",
    "    output = pd.DataFrame( data={\"PhraseId\":test[\"PhraseId\"], \"Sentiment\":prediction} )\n",
    "\n",
    "    # Use pandas to write the comma-separated output file\n",
    "    output.to_csv(filename, index=False, quoting=3 )\n",
    "    print \"done\""
   ]
  },
  {
   "cell_type": "markdown",
   "metadata": {
    "collapsed": false
   },
   "source": [
    " ### Testing Models\n",
    " \n",
    " Now that we have a good sampling of models defined and some good functions ready to do some intelligent testing, let's get right to it! All we have to do at this point is call our `test_models` function, and wait while the results come in."
   ]
  },
  {
   "cell_type": "code",
   "execution_count": 12,
   "metadata": {
    "collapsed": false
   },
   "outputs": [
    {
     "name": "stdout",
     "output_type": "stream",
     "text": [
      "------ No Preprocessing ------\n",
      "Multinomial\n",
      "0.575342816865\n",
      "RandomForest\n",
      "0.608355760605\n",
      "SVM\n",
      "0.629668076381\n",
      "TunedLogistic\n",
      "0.63465333846\n",
      "Logistic\n",
      "0.624144559785\n",
      "-------- Preprocessed --------\n",
      "Multinomial\n",
      "0.575829809048\n",
      "RandomForest\n",
      "0.605907984109\n",
      "SVM\n",
      "0.630616429578\n",
      "TunedLogistic\n",
      "0.63516596181\n",
      "Logistic\n",
      "0.622106881968\n"
     ]
    },
    {
     "name": "stderr",
     "output_type": "stream",
     "text": [
      "/Users/bumho/anaconda/lib/python2.7/site-packages/scipy/optimize/linesearch.py:285: LineSearchWarning: The line search algorithm did not converge\n",
      "  warn('The line search algorithm did not converge', LineSearchWarning)\n",
      "/Users/bumho/anaconda/lib/python2.7/site-packages/sklearn/utils/optimize.py:193: UserWarning: Line Search failed\n",
      "  warnings.warn('Line Search failed')\n"
     ]
    }
   ],
   "source": [
    "print \"------ No Preprocessing ------\"\n",
    "test_models(models, X)\n",
    "print \"-------- Preprocessed --------\"\n",
    "test_models(models, X_cleaned)"
   ]
  },
  {
   "cell_type": "markdown",
   "metadata": {},
   "source": [
    "### Back to the Exploration\n",
    "\n",
    "Back in our data exploration, we noticed a strong positive correlation between the length of the phrase and the standard deviation of the sentiment. In other words, a high proportion of short phrases ended up with a neutral sentiment score of 2, while longer phrases were much more all over the place - scoring many more 0s, 1s, 3s, and 4s. For this reason, let's look into whether the addition of the number of words as a feature will add any accuracy to the model. Below, let's define an `add_word_length` function that will add an extra column to the TFIDF feature vector for the model to learn from"
   ]
  },
  {
   "cell_type": "code",
   "execution_count": 16,
   "metadata": {
    "collapsed": true
   },
   "outputs": [],
   "source": [
    "def add_word_length(X, data):\n",
    "    num_words_feature = np.asarray(map(lambda x: len(x.split()), data.Phrase))\n",
    "    num_words_feature = num_words_feature[:, np.newaxis]\n",
    "    return sparse.hstack((X, num_words_feature))"
   ]
  },
  {
   "cell_type": "markdown",
   "metadata": {},
   "source": [
    "Now, let's put this function to use and do some validation."
   ]
  },
  {
   "cell_type": "code",
   "execution_count": 17,
   "metadata": {
    "collapsed": false
   },
   "outputs": [],
   "source": [
    "X_with_word_length = add_word_length(X, train)\n",
    "X_test = add_word_length(X_test, test)\n",
    "# test_models(models, X_with_word_length)"
   ]
  },
  {
   "cell_type": "code",
   "execution_count": 18,
   "metadata": {
    "collapsed": true
   },
   "outputs": [],
   "source": [
    "def compare_model_improvment(model1, model2, X):\n",
    "    first = test_model(model1, X)\n",
    "    second = test_model(model2, X)\n",
    "    print \"model 1\", first\n",
    "    print \"model 2\", second\n",
    "    print \"difference in the score\", second - first"
   ]
  },
  {
   "cell_type": "code",
   "execution_count": 16,
   "metadata": {
    "collapsed": false
   },
   "outputs": [
    {
     "name": "stdout",
     "output_type": "stream",
     "text": [
      "model 1 0.625797770088\n",
      "model 2 0.637959759067\n",
      "difference in the score 0.0121619889786\n"
     ]
    }
   ],
   "source": [
    "compare_model_improvment(logistic, logisticTune, X)"
   ]
  },
  {
   "cell_type": "code",
   "execution_count": 19,
   "metadata": {
    "collapsed": false
   },
   "outputs": [
    {
     "name": "stdout",
     "output_type": "stream",
     "text": [
      "fitting\n",
      "done\n"
     ]
    }
   ],
   "source": [
    "train_submit(logistic, X_with_word_length, X_test, filename = \"submission.csv\")"
   ]
  },
  {
   "cell_type": "code",
   "execution_count": 77,
   "metadata": {
    "collapsed": true
   },
   "outputs": [],
   "source": [
    "def add_phrase_length(X, data):\n",
    "    num_words_feature = np.asarray(map(lambda x: len(x), data.Phrase))\n",
    "    num_words_feature = num_words_feature[:, np.newaxis]\n",
    "    return sparse.hstack((X, num_words_feature))"
   ]
  },
  {
   "cell_type": "code",
   "execution_count": 85,
   "metadata": {
    "collapsed": false
   },
   "outputs": [],
   "source": [
    "X_add_phrase = add_phrase_length(X, train)\n",
    "X_add_phrase_t = add_phrase_length(X_test, test)\n",
    "# X_add_two = add_word_length(X_add_phrase, train)\n",
    "# X_add_two_t = add_word_length(X_add_phrase_t, test)"
   ]
  },
  {
   "cell_type": "code",
   "execution_count": 109,
   "metadata": {
    "collapsed": false
   },
   "outputs": [
    {
     "name": "stdout",
     "output_type": "stream",
     "text": [
      "  (0, 14888)\t0.287019277845\n",
      "  (0, 14871)\t0.135441541297\n",
      "  (0, 13681)\t0.0761528502645\n",
      "  (0, 13505)\t0.176900059578\n",
      "  (0, 13503)\t0.0898250803699\n",
      "  (0, 12857)\t0.127856375603\n",
      "  (0, 12424)\t0.138159296701\n",
      "  (0, 11837)\t0.176199420482\n",
      "  (0, 9227)\t0.270616837728\n",
      "  (0, 9204)\t0.193013325922\n",
      "  (0, 9085)\t0.189851541708\n",
      "  (0, 8807)\t0.135387954365\n",
      "  (0, 7217)\t0.175229216774\n",
      "  (0, 5837)\t0.228838071385\n",
      "  (0, 5821)\t0.262530286253\n",
      "  (0, 5595)\t0.265796263189\n",
      "  (0, 5323)\t0.20344769269\n",
      "  (0, 4577)\t0.278538658923\n",
      "  (0, 3490)\t0.248505909562\n",
      "  (0, 1879)\t0.110344377348\n",
      "  (0, 602)\t0.263418778638\n",
      "  (0, 593)\t0.220689028838\n",
      "  (0, 529)\t0.161438191432\n",
      "  (0, 288)\t0.2511340968\n",
      "  (1, 14871)\t0.223886118638\n",
      "  :\t:\n",
      "  (156035, 15240)\t34.0\n",
      "  (156036, 15240)\t31.0\n",
      "  (156037, 15240)\t15.0\n",
      "  (156038, 15240)\t15.0\n",
      "  (156039, 15240)\t137.0\n",
      "  (156040, 15240)\t128.0\n",
      "  (156041, 15240)\t126.0\n",
      "  (156042, 15240)\t23.0\n",
      "  (156043, 15240)\t21.0\n",
      "  (156044, 15240)\t102.0\n",
      "  (156045, 15240)\t97.0\n",
      "  (156046, 15240)\t8.0\n",
      "  (156047, 15240)\t88.0\n",
      "  (156048, 15240)\t80.0\n",
      "  (156049, 15240)\t36.0\n",
      "  (156050, 15240)\t25.0\n",
      "  (156051, 15240)\t21.0\n",
      "  (156052, 15240)\t11.0\n",
      "  (156053, 15240)\t43.0\n",
      "  (156054, 15240)\t35.0\n",
      "  (156055, 15240)\t9.0\n",
      "  (156056, 15240)\t25.0\n",
      "  (156057, 15240)\t18.0\n",
      "  (156058, 15240)\t9.0\n",
      "  (156059, 15240)\t8.0\n"
     ]
    }
   ],
   "source": [
    "x = add_phrase_length(X_add_phrase, train)\n",
    "xprint X_add_phrase"
   ]
  },
  {
   "cell_type": "code",
   "execution_count": 106,
   "metadata": {
    "collapsed": false
   },
   "outputs": [
    {
     "name": "stdout",
     "output_type": "stream",
     "text": [
      "15241\n",
      "\n"
     ]
    }
   ],
   "source": []
  },
  {
   "cell_type": "code",
   "execution_count": 86,
   "metadata": {
    "collapsed": false,
    "scrolled": true
   },
   "outputs": [
    {
     "name": "stdout",
     "output_type": "stream",
     "text": [
      "RandomForest\n",
      "0.603357682942\n",
      "SVM\n",
      "0.597770088428\n",
      "TunedLogistic\n",
      "0.640753556324\n",
      "Logistic\n",
      "0.630475458157\n"
     ]
    }
   ],
   "source": [
    "# print X_add_phrase\n",
    "# print \"-----\"\n",
    "# print X_add_two\n",
    "test_models(models, X_add_phrase)"
   ]
  },
  {
   "cell_type": "markdown",
   "metadata": {},
   "source": [
    "### Accuracy and Precision\n",
    "\n",
    "We wanted explore how precise and accurate our model was. We thought it was important to take a step back and try to understand how our model was behaving to improve our progress. First thing we explored was classification_report that is included in sklearn.metrics. This gave a quick run down on precision, recall, f1-score. Then we wanted to see how accurately the model distinguishes negative, neutral, and positive.\n",
    "\n",
    "Next thing we explored was observing the predictions for each Sentiment. One thing we wanted to see was if our model was correctly recognizing a negitivae sentiment from positive and the distributions of the prediction for each Sentiment.\n",
    "\n",
    "We can probably make this in to a function so we can see the results for different models."
   ]
  },
  {
   "cell_type": "code",
   "execution_count": 25,
   "metadata": {
    "collapsed": false
   },
   "outputs": [
    {
     "name": "stdout",
     "output_type": "stream",
     "text": [
      "                   precision    recall  f1-score   support\n",
      "\n",
      "         Negative       0.52      0.25      0.34      3508\n",
      "Somewhat Negative       0.53      0.41      0.46     13594\n",
      "          Neutral       0.69      0.85      0.76     39931\n",
      "Somewhat Positive       0.56      0.48      0.52     16446\n",
      "         Positive       0.56      0.30      0.39      4551\n",
      "\n",
      "      avg / total       0.62      0.64      0.62     78030\n",
      "\n"
     ]
    }
   ],
   "source": [
    "from sklearn.metrics import classification_report\n",
    "\n",
    "X_train, X_test, y_train, y_test, model = train_test_splitter(logisticTune, X, train.Sentiment)\n",
    "y_pred = model.predict(X_test)\n",
    "\n",
    "target_names = [\"Negative\", \"Somewhat Negative\", \"Neutral\", \"Somewhat Positive\", \"Positive\"]\n",
    "print(classification_report(y_test, y_pred, target_names=target_names))"
   ]
  },
  {
   "cell_type": "code",
   "execution_count": 127,
   "metadata": {
    "collapsed": false
   },
   "outputs": [
    {
     "name": "stdout",
     "output_type": "stream",
     "text": [
      "             precision    recall  f1-score   support\n",
      "\n",
      "   Negative       0.72      0.51      0.60     17135\n",
      "    Neutral       0.69      0.85      0.76     39841\n",
      "   Positive       0.76      0.61      0.68     21054\n",
      "\n",
      "avg / total       0.72      0.71      0.70     78030\n",
      "\n"
     ]
    }
   ],
   "source": [
    "def transform(y_pred):\n",
    "    result = []\n",
    "    for pred in y_pred:\n",
    "        if pred == 0:\n",
    "            result.append(1)\n",
    "        elif pred == 4:\n",
    "            result.append(3)\n",
    "        else:\n",
    "            result.append(pred)\n",
    "    return result\n",
    "three_class = transform(y_pred)\n",
    "three_class_r = transform(y_test)\n",
    "            \n",
    "target_names = [\"Negative\", \"Neutral\", \"Positive\"]\n",
    "print(classification_report(three_class_r, three_class, target_names=target_names))      "
   ]
  },
  {
   "cell_type": "code",
   "execution_count": 55,
   "metadata": {
    "collapsed": false
   },
   "outputs": [
    {
     "name": "stdout",
     "output_type": "stream",
     "text": [
      "78030\n",
      "3508 13594 39931 16446 4551\n"
     ]
    }
   ],
   "source": [
    "results = {0: [], 1:[], 2:[], 3:[],4: []}\n",
    "i = 0\n",
    "for index, y in y_test.iteritems():\n",
    "    results[y].append(y_pred[i])\n",
    "    i +=1\n",
    "print i\n",
    "print len(results[0]), len(results[1]), len(results[2]), len(results[3]), len(results[4])\n"
   ]
  },
  {
   "cell_type": "code",
   "execution_count": 73,
   "metadata": {
    "collapsed": false
   },
   "outputs": [
    {
     "data": {
      "text/plain": [
       "<matplotlib.text.Text at 0x124323650>"
      ]
     },
     "execution_count": 73,
     "metadata": {},
     "output_type": "execute_result"
    },
    {
     "data": {
      "image/png": "[encoded data removed]",
      "text/plain": [
       "<matplotlib.figure.Figure at 0x123b49dd0>"
      ]
     },
     "metadata": {},
     "output_type": "display_data"
    }
   ],
   "source": [
    "import matplotlib.pyplot as plt\n",
    "import seaborn as sns\n",
    "\n",
    "fig, (ax0, ax1, ax2) = plt.subplots(nrows=3, sharex=True)\n",
    "sns.distplot(results[0],kde=False, ax=ax0);\n",
    "ax0.set_title('Predictions of 0')\n",
    "sns.distplot(results[1],kde=False, ax=ax1);\n",
    "ax1.set_title('Predictions of 1')\n",
    "sns.distplot(results[2],kde=False, ax=ax2);\n",
    "ax2.set_title('Predictions of 2')"
   ]
  },
  {
   "cell_type": "code",
   "execution_count": 75,
   "metadata": {
    "collapsed": false
   },
   "outputs": [
    {
     "data": {
      "text/plain": [
       "<matplotlib.text.Text at 0x125051290>"
      ]
     },
     "execution_count": 75,
     "metadata": {},
     "output_type": "execute_result"
    },
    {
     "data": {
      "image/png": "[encoded data removed]",
      "text/plain": [
       "<matplotlib.figure.Figure at 0x124f50bd0>"
      ]
     },
     "metadata": {},
     "output_type": "display_data"
    }
   ],
   "source": [
    "fig, (ax3, ax4) = plt.subplots(nrows=2, sharex=True)\n",
    "sns.distplot(results[3],kde=False, ax=ax3);\n",
    "ax3.set_title('Predictions of 3')\n",
    "sns.distplot(results[4],kde=False, ax=ax4);\n",
    "ax4.set_title('Predictions of 4')"
   ]
  },
  {
   "cell_type": "markdown",
   "metadata": {},
   "source": [
    "Overall trend that we found was that our predictions are not \"extreme\" enough. For phrases that are supposed to be classified as 0, our model mostly predicts them to be 1. For 1 our model mostly predicts 2, for 3 mostly 2 and for 4 mostly 3. Our model tends to prefer the Sentiment of 1, 2, and 3, which are the more moderate sentiments. This trend makes sense because the amount of data we have for the extreme sentiments are way less compared to the moderate sentiments."
   ]
  },
  {
   "cell_type": "markdown",
   "metadata": {},
   "source": [
    "We decided to play around with the Word2Vec that Paul created so we fed the the matrix that he came up with into our pipeline"
   ]
  },
  {
   "cell_type": "code",
   "execution_count": 43,
   "metadata": {
    "collapsed": true
   },
   "outputs": [],
   "source": [
    "import pickle\n",
    "f = open('rotten_tomatoes_train.pickle')\n",
    "X_pickle = pickle.load(f)\n",
    "y_pickle = pickle.load(f)\n",
    "f.close()"
   ]
  },
  {
   "cell_type": "code",
   "execution_count": 45,
   "metadata": {
    "collapsed": false
   },
   "outputs": [
    {
     "name": "stdout",
     "output_type": "stream",
     "text": [
      "RandomForest\n",
      "0.56852492631\n",
      "SVM\n",
      "0.556068178906\n",
      "TunedLogistic\n",
      "0.560771498142\n",
      "Logistic\n",
      "0.560105087787\n"
     ]
    }
   ],
   "source": [
    "models = {'Logistic': logistic, 'TunedLogistic': logisticTune, 'RandomForest': random, 'SVM': SVM}\n",
    "test_models(models, X_pickle, y_pickle)"
   ]
  },
  {
   "cell_type": "markdown",
   "metadata": {
    "collapsed": true
   },
   "source": [
    "As Paul mentioned the model didn't show much promise. For some reason Multinomial bayes had a problem with the pickled data that was provided so we took it out of the models that we tested."
   ]
  }
 ],
 "metadata": {
  "kernelspec": {
   "display_name": "Python 2",
   "language": "python",
   "name": "python2"
  },
  "language_info": {
   "codemirror_mode": {
    "name": "ipython",
    "version": 2
   },
   "file_extension": ".py",
   "mimetype": "text/x-python",
   "name": "python",
   "nbconvert_exporter": "python",
   "pygments_lexer": "ipython2",
   "version": "2.7.11"
  }
 },
 "nbformat": 4,
 "nbformat_minor": 0
}
