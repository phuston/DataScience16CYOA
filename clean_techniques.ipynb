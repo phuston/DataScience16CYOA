{
 "cells": [
  {
   "cell_type": "code",
   "execution_count": 43,
   "metadata": {
    "collapsed": false
   },
   "outputs": [],
   "source": [
    "import pandas as pd\n",
    "import re\n",
    "import numpy as np\n",
    "import matplotlib.pyplot as plt\n",
    "from nltk.corpus import stopwords\n",
    "from nltk.stem.porter import PorterStemmer\n",
    "from nltk.stem import WordNetLemmatizer\n",
    "\n",
    "from sklearn import svm\n",
    "from sklearn.naive_bayes import MultinomialNB\n",
    "from sklearn import cross_validation\n",
    "from sklearn.ensemble import RandomForestClassifier, GradientBoostingClassifier\n",
    "from sklearn.linear_model import LinearRegression\n",
    "from sklearn.linear_model import LogisticRegression\n",
    "from sklearn.feature_extraction.text import CountVectorizer\n",
    "from sklearn.feature_extraction.text import TfidfTransformer\n",
    "from sklearn.pipeline import Pipeline\n",
    "from sklearn.naive_bayes import GaussianNB\n",
    "from sklearn.svm import LinearSVC\n",
    "from sklearn.multiclass import OneVsRestClassifier, OneVsOneClassifier\n",
    "\n",
    "%matplotlib inline"
   ]
  },
  {
   "cell_type": "code",
   "execution_count": 44,
   "metadata": {
    "collapsed": false
   },
   "outputs": [],
   "source": [
    "train = pd.read_csv(\"data/train.tsv\", sep= '\\t')\n",
    "test = pd.read_csv(\"data/test.tsv\", sep= '\\t')"
   ]
  },
  {
   "cell_type": "code",
   "execution_count": 47,
   "metadata": {
    "collapsed": false
   },
   "outputs": [],
   "source": [
    "porter_stemmer = PorterStemmer()\n",
    "wordnet_lemmatizer = WordNetLemmatizer()\n",
    "\n",
    "negations = ['no', 'never', 'not']\n",
    "\n",
    "def clean_phrase_simple(phrase):\n",
    "    # Grab only words and lower them\n",
    "    clean_str = re.findall(r'\\w+', phrase, flags = re.UNICODE | re.LOCALE)\n",
    "    return ' '.join(clean_str).lower()\n",
    "\n",
    "def clean_phrase_porter(phrase):\n",
    "    clean_str = re.findall(r'\\w+', phrase, flags = re.UNICODE | re.LOCALE)\n",
    "    \n",
    "    stemmed = [porter_stemmer.stem(word) for word in clean_str]\n",
    "    \n",
    "    return ' '.join(stemmed).lower()\n",
    "    \n",
    "    \n",
    "# I tried something with negations here - didn't seem to offer any real improvement\n",
    "    \n",
    "#     for i, word in enumerate(meaningful_words):\n",
    "#         if word in negations or word.endswith('n\\'t'):\n",
    "#             try:\n",
    "#                 meaningful_words[i+1] = \"!\" + meaningful_words[i+1]\n",
    "#             except:\n",
    "#                 pass\n",
    "#             try:\n",
    "#                 meaningful_words[i-1] = \"!\" + meaningful_words[i-1]\n",
    "#             except:\n",
    "#                 pass\n",
    "        \n",
    "        \n",
    "    return(\" \".join( meaningful_words))   \n",
    "\n",
    "def clean_phrase_lemmatizer(phrase):\n",
    "    letters_only = re.sub(\"[^a-zA-Z]\", \" \", phrase)\n",
    "    lower_case = letters_only.lower()\n",
    "    \n",
    "    words = lower_case.split()\n",
    "    stops = set(stopwords.words(\"english\")) \n",
    "    meaningful_words = [wordnet_lemmatizer.lemmatize(w) for w in words if not w in stops]\n",
    "    return(\" \".join( meaningful_words))   "
   ]
  },
  {
   "cell_type": "code",
   "execution_count": 48,
   "metadata": {
    "collapsed": true
   },
   "outputs": [],
   "source": [
    "def apply_transform(data):\n",
    "    data['CleanPhrase'] = data['Phrase'].apply(clean_phrase_porter)\n",
    "    data['CleanPhraseSimple'] = data['Phrase'].apply(clean_phrase_simple)"
   ]
  },
  {
   "cell_type": "code",
   "execution_count": 49,
   "metadata": {
    "collapsed": false
   },
   "outputs": [],
   "source": [
    "apply_transform(train)\n",
    "apply_transform(test)"
   ]
  },
  {
   "cell_type": "markdown",
   "metadata": {},
   "source": [
    "Multinomial Bayes - apparently a good place to start, but haven't had huge success with it. Most places recommend that SVM/some onevone classifier would be better, so that's what we did."
   ]
  },
  {
   "cell_type": "code",
   "execution_count": 50,
   "metadata": {
    "collapsed": false
   },
   "outputs": [],
   "source": [
    "pipelineOneVOne = Pipeline([('vect', CountVectorizer(analyzer = \"word\", tokenizer = None, preprocessor = None, stop_words='english', max_features = 5000)),\n",
    "                            ('tfidf', TfidfTransformer()),\n",
    "                            ('clf', OneVsOneClassifier(LinearSVC())),])"
   ]
  },
  {
   "cell_type": "code",
   "execution_count": 51,
   "metadata": {
    "collapsed": false
   },
   "outputs": [],
   "source": [
    "pipelineBayes = Pipeline([('vect', CountVectorizer()),\n",
    "                          ('tfidf', TfidfTransformer()),\n",
    "                          ('clf', MultinomialNB()),])"
   ]
  },
  {
   "cell_type": "code",
   "execution_count": 52,
   "metadata": {
    "collapsed": false
   },
   "outputs": [],
   "source": [
    "pipelineSVM  = Pipeline([('vect', CountVectorizer(analyzer = \"word\", tokenizer = None, preprocessor = None, stop_words='english', max_features = 5000)),\n",
    "                         ('tfidf', TfidfTransformer()),\n",
    "                         ('clf', svm.LinearSVC(penalty = 'l2', dual = False, tol = 1e-3)),])"
   ]
  },
  {
   "cell_type": "code",
   "execution_count": 53,
   "metadata": {
    "collapsed": false
   },
   "outputs": [
    {
     "name": "stdout",
     "output_type": "stream",
     "text": [
      "Mean score for OnevOne Model: 0.580859829424  |  Predictor: CleanPhraseSimple\n",
      "Mean score for SVM Model: 0.57742521947  |  Predictor: CleanPhraseSimple\n",
      "Mean score for OnevOne Model: 0.586658821458  |  Predictor: CleanPhrase\n",
      "Mean score for SVM Model: 0.580808524222  |  Predictor: CleanPhrase\n"
     ]
    }
   ],
   "source": [
    "predictors = [\"CleanPhraseSimple\",\"CleanPhrase\"]\n",
    "\n",
    "for predictor in predictors:\n",
    "    # bayes_mean = cross_validation.cross_val_score(pipelineBayes, train[predictors], train[\"Sentiment\"], cv=3).mean()\n",
    "    onevone_mean = cross_validation.cross_val_score(pipelineOneVOne, train[predictor], train[\"Sentiment\"], cv=3).mean()\n",
    "    svc_mean = cross_validation.cross_val_score(pipelineSVM, train[predictor], train[\"Sentiment\"], cv=3).mean()\n",
    "\n",
    "\n",
    "    # print \"Mean score for Bayes model: {}\".format(bayes_mean)\n",
    "    print \"Mean score for OnevOne Model: {}  |  Predictor: {}\".format(onevone_mean, predictor)\n",
    "    print \"Mean score for SVM Model: {}  |  Predictor: {}\".format(svc_mean, predictor)"
   ]
  },
  {
   "cell_type": "code",
   "execution_count": 23,
   "metadata": {
    "collapsed": false
   },
   "outputs": [],
   "source": [
    "pipelineBayes = pipelineBayes.fit(train.Phrase, train.Sentiment)\n",
    "pipelineOneVOne = pipelineOneVOne.fit(train.Phrase, train.Sentiment)\n",
    "\n",
    "predictionBayes = pipelineBayes.predict(test.Phrase)\n",
    "predictionOnevOne = pipelineOneVOne.predict(test.Phrase)"
   ]
  },
  {
   "cell_type": "code",
   "execution_count": 24,
   "metadata": {
    "collapsed": true
   },
   "outputs": [],
   "source": [
    "output = pd.DataFrame( data={\"PhraseId\":test[\"PhraseId\"], \"Sentiment\":predictionOnevOne} )\n",
    "\n",
    "# Use pandas to write the comma-separated output file\n",
    "output.to_csv(\"submission.csv\", index=False, quoting=3 )"
   ]
  }
 ],
 "metadata": {
  "kernelspec": {
   "display_name": "Python 2",
   "language": "python",
   "name": "python2"
  },
  "language_info": {
   "codemirror_mode": {
    "name": "ipython",
    "version": 2
   },
   "file_extension": ".py",
   "mimetype": "text/x-python",
   "name": "python",
   "nbconvert_exporter": "python",
   "pygments_lexer": "ipython2",
   "version": "2.7.11"
  }
 },
 "nbformat": 4,
 "nbformat_minor": 0
}
